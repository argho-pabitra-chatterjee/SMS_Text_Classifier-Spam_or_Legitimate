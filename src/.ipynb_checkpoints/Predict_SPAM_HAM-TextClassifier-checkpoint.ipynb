{
 "cells": [
  {
   "cell_type": "markdown",
   "metadata": {
    "collapsed": false
   },
   "source": [
    "# import required packages"
   ]
  },
  {
   "cell_type": "code",
   "execution_count": 42,
   "metadata": {
    "collapsed": false
   },
   "outputs": [],
   "source": [
    "import pandas as pd\n",
    "import numpy as np\n",
    "from sklearn.feature_extraction.text import CountVectorizer, TfidfVectorizer\n",
    "from sklearn.naive_bayes import MultinomialNB, GaussianNB\n",
    "from sklearn.linear_model import LogisticRegression\n",
    "from sklearn.cross_validation import train_test_split \n",
    "from sklearn import metrics"
   ]
  },
  {
   "cell_type": "markdown",
   "metadata": {},
   "source": [
    "# read the input dataset"
   ]
  },
  {
   "cell_type": "code",
   "execution_count": 46,
   "metadata": {
    "collapsed": false
   },
   "outputs": [],
   "source": [
    "csv_dataset = pd.read_csv('../data/spam.csv', encoding='latin-1')\n",
    "\n",
    "del csv_dataset['Unnamed: 2']\n",
    "del csv_dataset['Unnamed: 3']\n",
    "del csv_dataset['Unnamed: 4']\n",
    "\n",
    "csv_dataset.columns = ['class', 'data']\n",
    "\n",
    "def table(df, col):\n",
    "    return df.groupby(col).count()"
   ]
  },
  {
   "cell_type": "markdown",
   "metadata": {},
   "source": [
    "### Imbalanced class proportion observed in distribution of response variable"
   ]
  },
  {
   "cell_type": "code",
   "execution_count": 8,
   "metadata": {
    "collapsed": false
   },
   "outputs": [
    {
     "data": {
      "text/html": [
       "<div>\n",
       "<table border=\"1\" class=\"dataframe\">\n",
       "  <thead>\n",
       "    <tr style=\"text-align: right;\">\n",
       "      <th></th>\n",
       "      <th>data</th>\n",
       "    </tr>\n",
       "    <tr>\n",
       "      <th>class</th>\n",
       "      <th></th>\n",
       "    </tr>\n",
       "  </thead>\n",
       "  <tbody>\n",
       "    <tr>\n",
       "      <th>ham</th>\n",
       "      <td>4825</td>\n",
       "    </tr>\n",
       "    <tr>\n",
       "      <th>spam</th>\n",
       "      <td>747</td>\n",
       "    </tr>\n",
       "  </tbody>\n",
       "</table>\n",
       "</div>"
      ],
      "text/plain": [
       "       data\n",
       "class      \n",
       "ham    4825\n",
       "spam    747"
      ]
     },
     "execution_count": 8,
     "metadata": {},
     "output_type": "execute_result"
    }
   ],
   "source": [
    "table(csv_dataset,\"class\")"
   ]
  },
  {
   "cell_type": "code",
   "execution_count": 9,
   "metadata": {
    "collapsed": false
   },
   "outputs": [
    {
     "name": "stdout",
     "output_type": "stream",
     "text": [
      "  class                                               data\n",
      "0   ham  Go until jurong point, crazy.. Available only ...\n",
      "1   ham                      Ok lar... Joking wif u oni...\n",
      "2  spam  Free entry in 2 a wkly comp to win FA Cup fina...\n",
      "3   ham  U dun say so early hor... U c already then say...\n",
      "4   ham  Nah I don't think he goes to usf, he lives aro...\n"
     ]
    }
   ],
   "source": [
    "print(csv_dataset.head())"
   ]
  },
  {
   "cell_type": "code",
   "execution_count": 10,
   "metadata": {
    "collapsed": false
   },
   "outputs": [
    {
     "name": "stdout",
     "output_type": "stream",
     "text": [
      "  class                                               data\n",
      "0     0  Go until jurong point, crazy.. Available only ...\n",
      "1     0                      Ok lar... Joking wif u oni...\n",
      "2     1  Free entry in 2 a wkly comp to win FA Cup fina...\n",
      "3     0  U dun say so early hor... U c already then say...\n",
      "4     0  Nah I don't think he goes to usf, he lives aro...\n"
     ]
    }
   ],
   "source": [
    "# converting responses to int\n",
    "csv_dataset.loc[csv_dataset['class']=='ham', 'class'] = 0\n",
    "csv_dataset.loc[csv_dataset['class']=='spam', 'class'] = 1\n",
    "\n",
    "print(csv_dataset.head())"
   ]
  },
  {
   "cell_type": "code",
   "execution_count": 11,
   "metadata": {
    "collapsed": false
   },
   "outputs": [],
   "source": [
    "## No. of examples belonging to class \"SPAM\" is far too less compared to number of examples for class \"HAM\"\n",
    "## seperating dependent and independent variables\n",
    "y_class = csv_dataset.pop('class')\n",
    "X_data  = csv_dataset['data'].str.strip()\n",
    "\n",
    "## splitting dataset\n",
    "x_train, x_test, y_train, y_test = train_test_split(X_data, y_class, test_size = 0.3, stratify=y_class)"
   ]
  },
  {
   "cell_type": "code",
   "execution_count": 12,
   "metadata": {
    "collapsed": false
   },
   "outputs": [
    {
     "name": "stdout",
     "output_type": "stream",
     "text": [
      "=======================\n",
      "class\n",
      "0    3377\n",
      "1     523\n",
      "Name: class, dtype: int64\n",
      "class\n",
      "0    1448\n",
      "1     224\n",
      "Name: class, dtype: int64\n",
      "=======================\n",
      "Series\n",
      "(3900,)\n",
      "DataFrame\n",
      "(3900, 1)\n"
     ]
    }
   ],
   "source": [
    "print(\"=======================\")\n",
    "print(y_train.groupby(y_train).count())\n",
    "print(y_test.groupby(y_test).count())\n",
    "print(\"=======================\")\n",
    "print(type(x_train).__name__)\n",
    "print(x_train.shape)\n",
    "print(type(x_train.to_frame()).__name__)\n",
    "print((x_train.to_frame()).shape)\n",
    "\n",
    "x_train_1 = x_train\n",
    "x_test_1 = x_test\n",
    "y_train_1 = y_train\n",
    "y_test_1 = y_test\n",
    "\n"
   ]
  },
  {
   "cell_type": "code",
   "execution_count": 13,
   "metadata": {
    "collapsed": false
   },
   "outputs": [],
   "source": [
    "x_train = x_train.to_frame()\n",
    "x_test = x_test.to_frame()\n",
    "y_train = y_train.to_frame()\n",
    "y_test = y_test.to_frame()\n",
    "\n",
    "\n",
    "train = x_train.join(y_train)\n",
    "test = x_test.join(y_test)\n",
    "\n",
    "x_train_merged_doc = train.groupby('class')['data'].apply('.'.join).reset_index()\n"
   ]
  },
  {
   "cell_type": "code",
   "execution_count": 14,
   "metadata": {
    "collapsed": false
   },
   "outputs": [
    {
     "data": {
      "text/plain": [
       "(3900, 1)"
      ]
     },
     "execution_count": 14,
     "metadata": {},
     "output_type": "execute_result"
    }
   ],
   "source": [
    "x_train.shape"
   ]
  },
  {
   "cell_type": "markdown",
   "metadata": {},
   "source": [
    "\n",
    "# Null accuracy : accuracy by always predicting the most frequent class #"
   ]
  },
  {
   "cell_type": "code",
   "execution_count": 15,
   "metadata": {
    "collapsed": false
   },
   "outputs": [
    {
     "name": "stdout",
     "output_type": "stream",
     "text": [
      "0    1448\n",
      "1     224\n",
      "Name: class, dtype: int64\n",
      "\n",
      "Null Accuracy : 0.866028708134\n"
     ]
    }
   ],
   "source": [
    "print(y_test[\"class\"].value_counts())\n",
    "\n",
    "#calculate null accuracy for binary classifier\n",
    "print(\"\\nNull Accuracy : \" + str(max((y_test[\"class\"].mean()), (1-(y_test[\"class\"].mean())))))"
   ]
  },
  {
   "cell_type": "code",
   "execution_count": 16,
   "metadata": {
    "collapsed": false
   },
   "outputs": [
    {
     "name": "stdout",
     "output_type": "stream",
     "text": [
      "=======================\n",
      "(3900, 28303)\n",
      "=======================\n",
      "(1672, 28303)\n"
     ]
    }
   ],
   "source": [
    "## creating TFIDF features\n",
    "#vectorizer = TfidfVectorizer(ngram_range=(1, 2),  sublinear_tf = True, stop_words='english')\n",
    "vectorizer = TfidfVectorizer(ngram_range=(1, 2),sublinear_tf = True, stop_words='english', max_df=0.5)\n",
    "#vectorizer.fit(raw_documents = x_train_merged_doc['data'], y = x_train_merged_doc['class'])\n",
    "#features_train_transformed   = vectorizer.transform(raw_documents=x_train, copy = False)\n",
    "features_train_transformed    = vectorizer.fit_transform(raw_documents=x_train['data'])\n",
    "features_test_transformed     = vectorizer.transform(raw_documents=x_test['data'], copy = False)\n",
    "\n",
    "print('=======================')\n",
    "print(features_train_transformed.shape)\n",
    "print('=======================')\n",
    "print(features_test_transformed.shape)\n"
   ]
  },
  {
   "cell_type": "markdown",
   "metadata": {
    "collapsed": false
   },
   "source": [
    "\n",
    "## Using the classic Naive Bayes classifier which is a proven classification technique for SPAM / HAM problem\n"
   ]
  },
  {
   "cell_type": "code",
   "execution_count": 43,
   "metadata": {
    "collapsed": true
   },
   "outputs": [
    {
     "name": "stdout",
     "output_type": "stream",
     "text": [
      "1\n",
      "True\n",
      "1\n",
      "True\n",
      "1\n",
      "True\n",
      "1\n",
      "True\n",
      "0\n",
      "True\n",
      "0\n",
      "True\n",
      "0\n",
      "True\n",
      "0\n",
      "True\n"
     ]
    }
   ],
   "source": [
    "mnb = MultinomialNB(alpha=1e-10, fit_prior=True)\n",
    "mnb.fit(X=features_train_transformed, y=np.char.mod('%d',y_train['class'].values))\n",
    "pred_y = mnb.predict(features_test_transformed)\n",
    "actual_y = np.char.mod('%d',y_test['class'].values)\n",
    "cf_matrix = metrics.confusion_matrix(actual_y, pred_y)\n",
    "\n",
    "TP = cf_matrix[1,1]\n",
    "FN = cf_matrix[1,0]\n",
    "FP = cf_matrix[0,1]\n",
    "TN = cf_matrix[0,0]"
   ]
  },
  {
   "cell_type": "markdown",
   "metadata": {},
   "source": [
    "### Classification Accuracy"
   ]
  },
  {
   "cell_type": "code",
   "execution_count": 24,
   "metadata": {
    "collapsed": false
   },
   "outputs": [
    {
     "name": "stdout",
     "output_type": "stream",
     "text": [
      "accuracy : 98.1459330144%\n"
     ]
    }
   ],
   "source": [
    "#metrics.accuracy_score(actual_y, pred_y)\n",
    "print(\"Classification accuracy : \" + str(((TP+TN)/float(TP+TN+FP+FN))*100) + \"%\")"
   ]
  },
  {
   "cell_type": "markdown",
   "metadata": {},
   "source": [
    "### Classification Error"
   ]
  },
  {
   "cell_type": "code",
   "execution_count": 25,
   "metadata": {
    "collapsed": false
   },
   "outputs": [
    {
     "name": "stdout",
     "output_type": "stream",
     "text": [
      "Classification Error : 1.85406698565%\n"
     ]
    }
   ],
   "source": [
    "# 1-metrics.accuracy_score(actual_y, pred_y)\n",
    "print(\"Classification Error : \" + str(((FP+FN)/float(TP+TN+FP+FN))*100) + \"%\")"
   ]
  },
  {
   "cell_type": "markdown",
   "metadata": {},
   "source": [
    "### Sensitivity : When actual value is +ve, how often is the prediction correct"
   ]
  },
  {
   "cell_type": "code",
   "execution_count": 33,
   "metadata": {
    "collapsed": false
   },
   "outputs": [
    {
     "name": "stdout",
     "output_type": "stream",
     "text": [
      "Sensitivity : 91.9642857143%\n"
     ]
    }
   ],
   "source": [
    "#print(metrics.recall_score(actual_y, pred_y))\n",
    "print(\"Sensitivity : \" + str(((TP)/float(TP+FN))*100) + \"%\")"
   ]
  },
  {
   "cell_type": "markdown",
   "metadata": {},
   "source": [
    "### Specificity : When actual vaue is -ve, how ofen is the prediction correct"
   ]
  },
  {
   "cell_type": "code",
   "execution_count": 36,
   "metadata": {
    "collapsed": false
   },
   "outputs": [
    {
     "name": "stdout",
     "output_type": "stream",
     "text": [
      "Specificity : 0.991022099448\n"
     ]
    }
   ],
   "source": [
    "print(\"Specificity : \" + str(TN/float(TN+FP)))"
   ]
  },
  {
   "cell_type": "markdown",
   "metadata": {},
   "source": [
    "#### > The model is very likely to predict the -ve instance correctly compared to +ve instances.\n",
    "\n",
    "#### > Hence, we can define our classifier as highly Specific but not highly Sensitive\n",
    "\n",
    "#### > The primary reason is imbalanced distribution of response variable. We can suspect the computation of prior's of each class in the training phase might have high variance from sample to sample owing to low Sensitivity.\n",
    "\n"
   ]
  },
  {
   "cell_type": "markdown",
   "metadata": {},
   "source": [
    "### Precision : Ability to find -ve examples i.e. how much biased is the classifier towards +ve examples"
   ]
  },
  {
   "cell_type": "code",
   "execution_count": 41,
   "metadata": {
    "collapsed": false
   },
   "outputs": [
    {
     "name": "stdout",
     "output_type": "stream",
     "text": [
      "Precision : 0.940639269406\n"
     ]
    }
   ],
   "source": [
    "#print(\"Precision : \" + str(metrics.precision_score(actual_y, pred_y)))\n",
    "print(\"Precision : \" + str(TP/float(TP+FP)))\n"
   ]
  },
  {
   "cell_type": "markdown",
   "metadata": {},
   "source": [
    "### Recall : Ability to find +ve examples i.e. how good the classifier is in finding the +ve examples"
   ]
  },
  {
   "cell_type": "code",
   "execution_count": 44,
   "metadata": {
    "collapsed": false
   },
   "outputs": [
    {
     "name": "stdout",
     "output_type": "stream",
     "text": [
      "Recall : 0.919642857143\n"
     ]
    }
   ],
   "source": [
    "print(\"Recall : \" + str(TP/(TP+FN)))"
   ]
  },
  {
   "cell_type": "markdown",
   "metadata": {},
   "source": [
    "## balanced F-measure : weighted average of the precision and recall"
   ]
  },
  {
   "cell_type": "code",
   "execution_count": 45,
   "metadata": {
    "collapsed": false
   },
   "outputs": [
    {
     "name": "stdout",
     "output_type": "stream",
     "text": [
      "F1 score : 0.930022573363\n"
     ]
    }
   ],
   "source": [
    "precision = TP/float(TP+FP)\n",
    "recall = TP/(TP+FN)\n",
    "\n",
    "F1 = 2*precision*recall/(precision + recall)\n",
    "\n",
    "print(\"F1 score : \" + str(F1))"
   ]
  }
 ],
 "metadata": {
  "kernelspec": {
   "display_name": "Python 3",
   "language": "python",
   "name": "python3"
  },
  "language_info": {
   "codemirror_mode": {
    "name": "ipython",
    "version": 3
   },
   "file_extension": ".py",
   "mimetype": "text/x-python",
   "name": "python",
   "nbconvert_exporter": "python",
   "pygments_lexer": "ipython3",
   "version": "3.6.0"
  }
 },
 "nbformat": 4,
 "nbformat_minor": 2
}
